{
  "nbformat": 4,
  "nbformat_minor": 0,
  "metadata": {
    "colab": {
      "provenance": [],
      "authorship_tag": "ABX9TyO238mQ0OShPV6F3x4Wz4NR",
      "include_colab_link": true
    },
    "kernelspec": {
      "name": "python3",
      "display_name": "Python 3"
    },
    "language_info": {
      "name": "python"
    }
  },
  "cells": [
    {
      "cell_type": "markdown",
      "metadata": {
        "id": "view-in-github",
        "colab_type": "text"
      },
      "source": [
        "<a href=\"https://colab.research.google.com/github/Nivi2004/PYTHON1/blob/main/Codsoft_intern_py.ipynb\" target=\"_parent\"><img src=\"https://colab.research.google.com/assets/colab-badge.svg\" alt=\"Open In Colab\"/></a>"
      ]
    },
    {
      "cell_type": "markdown",
      "source": [
        "TASK-1.CHATBOT WITH RULE-BASED RESPONSES\n"
      ],
      "metadata": {
        "id": "UvSvR4HoS_lW"
      }
    },
    {
      "cell_type": "code",
      "execution_count": null,
      "metadata": {
        "colab": {
          "base_uri": "https://localhost:8080/"
        },
        "id": "VRjdpBQaKxvQ",
        "outputId": "06e05206-da12-4d3f-f555-1b1181964cea"
      },
      "outputs": [
        {
          "output_type": "stream",
          "name": "stdout",
          "text": [
            "You: hi\n",
            "Chatbot: Hello! How can I help you today?\n",
            "You: today date?\n",
            "Chatbot: Today's date is 2024-07-06.\n"
          ]
        }
      ],
      "source": [
        "def chatbot_response(user_input):\n",
        "    user_input = user_input.lower()  # Convert input to lowercase for consistency\n",
        "\n",
        "    if \"hello\" in user_input or \"hi\" in user_input:\n",
        "        return \"Hello! How can I help you today?\"\n",
        "    elif \"how are you\" in user_input:\n",
        "        return \"I'm just a bot, but I'm doing great! How about you?\"\n",
        "    elif \"your name\" in user_input:\n",
        "        return \"I'm a chatbot created to assist you.\"\n",
        "    elif \"time\" in user_input:\n",
        "        from datetime import datetime\n",
        "        now = datetime.now()\n",
        "        return f\"The current time is {now.strftime('%H:%M:%S')}.\"\n",
        "    elif \"date\" in user_input:\n",
        "        from datetime import datetime\n",
        "        today = datetime.today()\n",
        "        return f\"Today's date is {today.strftime('%Y-%m-%d')}.\"\n",
        "    elif \"bye\" in user_input or \"goodbye\" in user_input:\n",
        "        return \"Goodbye! Have a great day!\"\n",
        "    else:\n",
        "        return \"I'm not sure how to respond to that. Can you please rephrase?\"\n",
        "\n",
        "# Example interaction\n",
        "while True:\n",
        "    user_input = input(\"You: \")\n",
        "    if user_input.lower() in [\"bye\", \"goodbye\"]:\n",
        "        print(\"Chatbot: Goodbye! Have a great day!\")\n",
        "        break\n",
        "    response = chatbot_response(user_input)\n",
        "    print(\"Chatbot:\", response)\n"
      ]
    },
    {
      "cell_type": "markdown",
      "source": [
        "TASK-2.TIC-TAC-TOE AI"
      ],
      "metadata": {
        "id": "LqQvaMEVTQ79"
      }
    },
    {
      "cell_type": "code",
      "source": [
        "import math\n",
        "\n",
        "# Function to print the Tic-Tac-Toe board\n",
        "def print_board(board):\n",
        "    for row in board:\n",
        "        print(\" | \".join(row))\n",
        "        print(\"-\" * 5)\n",
        "\n",
        "# Function to check if there are empty spaces on the board\n",
        "def is_moves_left(board):\n",
        "    for row in board:\n",
        "        if \" \" in row:\n",
        "            return True\n",
        "    return False\n",
        "\n",
        "# Function to evaluate the board and return a score\n",
        "def evaluate(board):\n",
        "    # Check rows for a win\n",
        "    for row in board:\n",
        "        if row[0] == row[1] == row[2]:\n",
        "            if row[0] == 'X':\n",
        "                return 10\n",
        "            elif row[0] == 'O':\n",
        "                return -10\n",
        "\n",
        "    # Check columns for a win\n",
        "    for col in range(3):\n",
        "        if board[0][col] == board[1][col] == board[2][col]:\n",
        "            if board[0][col] == 'X':\n",
        "                return 10\n",
        "            elif board[0][col] == 'O':\n",
        "                return -10\n",
        "\n",
        "    # Check diagonals for a win\n",
        "    if board[0][0] == board[1][1] == board[2][2]:\n",
        "        if board[0][0] == 'X':\n",
        "            return 10\n",
        "        elif board[0][0] == 'O':\n",
        "            return -10\n",
        "\n",
        "    if board[0][2] == board[1][1] == board[2][0]:\n",
        "        if board[0][2] == 'X':\n",
        "            return 10\n",
        "        elif board[0][2] == 'O':\n",
        "            return -10\n",
        "\n",
        "    # Return 0 if no win\n",
        "    return 0\n"
      ],
      "metadata": {
        "id": "aMq--ujXMh2_"
      },
      "execution_count": 2,
      "outputs": []
    },
    {
      "cell_type": "code",
      "source": [
        "Step 2: Implement the Minimax Algorithm"
      ],
      "metadata": {
        "id": "tEWeOMs6MsrQ"
      },
      "execution_count": null,
      "outputs": []
    },
    {
      "cell_type": "code",
      "source": [
        "# Minimax algorithm\n",
        "def minimax(board, depth, is_max):\n",
        "    score = evaluate(board)\n",
        "\n",
        "    # If AI wins\n",
        "    if score == 10:\n",
        "        return score - depth\n",
        "\n",
        "    # If human wins\n",
        "    if score == -10:\n",
        "        return score + depth\n",
        "\n",
        "    # If no moves left and no winner\n",
        "    if not is_moves_left(board):\n",
        "        return 0\n",
        "\n",
        "    # If it's the maximizer's move\n",
        "    if is_max:\n",
        "        best = -math.inf\n",
        "\n",
        "        for i in range(3):\n",
        "            for j in range(3):\n",
        "                if board[i][j] == \" \":\n",
        "                    board[i][j] = 'X'\n",
        "                    best = max(best, minimax(board, depth + 1, not is_max))\n",
        "                    board[i][j] = \" \"\n",
        "        return best\n",
        "\n",
        "    # If it's the minimizer's move\n",
        "    else:\n",
        "        best = math.inf\n",
        "\n",
        "        for i in range(3):\n",
        "            for j in range(3):\n",
        "                if board[i][j] == \" \":\n",
        "                    board[i][j] = 'O'\n",
        "                    best = min(best, minimax(board, depth + 1, not is_max))\n",
        "                    board[i][j] = \" \"\n",
        "        return best\n"
      ],
      "metadata": {
        "id": "nJSpUeGcMycq"
      },
      "execution_count": null,
      "outputs": []
    },
    {
      "cell_type": "code",
      "source": [
        "Step 3: Find the Best Move"
      ],
      "metadata": {
        "id": "jWhzkYyKM51a"
      },
      "execution_count": null,
      "outputs": []
    },
    {
      "cell_type": "code",
      "source": [
        "# Function to find the best move for the AI\n",
        "def find_best_move(board):\n",
        "    best_val = -math.inf\n",
        "    best_move = (-1, -1)\n",
        "\n",
        "    for i in range(3):\n",
        "        for j in range(3):\n",
        "            if board[i][j] == \" \":\n",
        "                board[i][j] = 'X'\n",
        "                move_val = minimax(board, 0, False)\n",
        "                board[i][j] = \" \"\n",
        "\n",
        "                if move_val > best_val:\n",
        "                    best_move = (i, j)\n",
        "                    best_val = move_val\n",
        "\n",
        "    return best_move\n"
      ],
      "metadata": {
        "id": "4Hrl90waNB71"
      },
      "execution_count": 5,
      "outputs": []
    },
    {
      "cell_type": "code",
      "source": [
        "Step 4: Play the Game"
      ],
      "metadata": {
        "id": "Ms8ENYlbNGXq"
      },
      "execution_count": null,
      "outputs": []
    },
    {
      "cell_type": "code",
      "source": [
        "# Tic Tac Toe game in Python\n",
        "\n",
        "board = [[\" \", \" \", \" \"], [\" \", \" \", \" \"], [\" \", \" \", \" \"]]\n",
        "\n",
        "def print_board(board):\n",
        "    for row in board:\n",
        "        print(\" | \".join(row))\n",
        "\n",
        "def evaluate(board):\n",
        "    for row in board:\n",
        "        if row.count(row[0]) == len(row) and row[0] != \" \":\n",
        "            return 10 if row[0] == \"X\" else -10\n",
        "    for col in range(len(board)):\n",
        "        check = []\n",
        "        for row in board:\n",
        "            check.append(row[col])\n",
        "        if check.count(check[0]) == len(check) and check[0] != \" \":\n",
        "            return 10 if check[0] == \"X\" else -10\n",
        "    if board[0][0] == board[1][1] == board[2][2] and board[0][0] != \" \":\n",
        "        return 10 if board[0][0] == \"X\" else -10\n",
        "    if board[0][2] == board[1][1] == board[2][0] and board[0][2] != \" \":\n",
        "        return 10 if board[0][2] == \"X\" else -10\n",
        "    return 0\n",
        "\n",
        "def is_moves_left(board):\n",
        "    for row in board:\n",
        "        if \" \" in row:\n",
        "            return True\n",
        "    return False\n",
        "\n",
        "def find_best_move(board):\n",
        "    best_score = float('-inf')\n",
        "    best_move = None\n",
        "    for i in range(len(board)):\n",
        "        for j in range(len(board[i])):\n",
        "            if board[i][j] == \" \":\n",
        "                board[i][j] = \"X\"\n",
        "                score = minimax(board, 0, False)\n",
        "                board[i][j] = \" \"\n",
        "                if score > best_score:\n",
        "                    best_score = score\n",
        "                    best_move = (i, j)\n",
        "    return best_move\n",
        "\n",
        "def minimax(board, depth, is_maximizing):\n",
        "    result = evaluate(board)\n",
        "    if result != 0:\n",
        "        return result\n",
        "    if not is_moves_left(board):\n",
        "        return 0\n",
        "    if is_maximizing:\n",
        "        best_score = float('-inf')\n",
        "        for i in range(len(board)):\n",
        "            for j in range(len(board[i])):\n",
        "                if board[i][j] == \" \":\n",
        "                    board[i][j] = \"X\"\n",
        "                    score = minimax(board, depth + 1, False)\n",
        "                    board[i][j] = \" \"\n",
        "                    best_score = max(score, best_score)\n",
        "        return best_score\n",
        "    else:\n",
        "        best_score = float('inf')\n",
        "        for i in range(len(board)):\n",
        "            for j in range(len(board[i])):\n",
        "                if board[i][j] == \" \":\n",
        "                    board[i][j] = \"O\"\n",
        "                    score = minimax(board, depth + 1, True)\n",
        "                    board[i][j] = \" \"\n",
        "                    best_score = min(score, best_score)\n",
        "        return best_score\n",
        "\n",
        "while True:\n",
        "    print_board(board)\n",
        "    if is_game_over(board):\n",
        "        break\n",
        "    row, col = map(int, input(\"Enter your move (row and column): \").split())\n",
        "    if board[row][col] == \" \":\n",
        "        board[row][col] = 'O'\n",
        "    else:\n",
        "        print(\"Invalid move. Try again.\")\n",
        "        continue\n",
        "    print_board(board)\n",
        "    if is_game_over(board):\n",
        "        break\n",
        "    print(\"AI's move:\")\n",
        "    ai_move = find_best_move(board)\n",
        "    board[ai_move[0]][ai_move[1]] = 'X'\n",
        "print_board(board)\n",
        "result = evaluate(board)\n",
        "if result == 10:\n",
        "    print(\"AI wins!\")\n",
        "elif result == -10:\n",
        "    print(\"You win!\")\n",
        "else:\n",
        "    print(\"It's a draw!\")"
      ],
      "metadata": {
        "colab": {
          "base_uri": "https://localhost:8080/"
        },
        "id": "Ri1YIdDJNMeJ",
        "outputId": "eda81418-1b02-4b14-9f74-fbf3a14590e6"
      },
      "execution_count": 8,
      "outputs": [
        {
          "output_type": "stream",
          "name": "stdout",
          "text": [
            "  |   |  \n",
            "  |   |  \n",
            "  |   |  \n",
            "Enter your move (row and column): 0 0\n",
            "O |   |  \n",
            "  |   |  \n",
            "  |   |  \n",
            "AI's move:\n",
            "O |   |  \n",
            "  | X |  \n",
            "  |   |  \n",
            "Enter your move (row and column): 1 1\n",
            "Invalid move. Try again.\n",
            "O |   |  \n",
            "  | X |  \n",
            "  |   |  \n",
            "Enter your move (row and column): 2 2\n",
            "O |   |  \n",
            "  | X |  \n",
            "  |   | O\n",
            "AI's move:\n",
            "O | X |  \n",
            "  | X |  \n",
            "  |   | O\n",
            "Enter your move (row and column): 0 1\n",
            "Invalid move. Try again.\n",
            "O | X |  \n",
            "  | X |  \n",
            "  |   | O\n",
            "Enter your move (row and column): 2 1\n",
            "O | X |  \n",
            "  | X |  \n",
            "  | O | O\n",
            "AI's move:\n",
            "O | X |  \n",
            "  | X |  \n",
            "X | O | O\n",
            "Enter your move (row and column): 0 2\n",
            "O | X | O\n",
            "  | X |  \n",
            "X | O | O\n",
            "AI's move:\n",
            "O | X | O\n",
            "  | X | X\n",
            "X | O | O\n",
            "Enter your move (row and column): 1 1\n",
            "Invalid move. Try again.\n",
            "O | X | O\n",
            "  | X | X\n",
            "X | O | O\n",
            "Enter your move (row and column): 1 0\n",
            "O | X | O\n",
            "O | X | X\n",
            "X | O | O\n",
            "O | X | O\n",
            "O | X | X\n",
            "X | O | O\n",
            "It's a draw!\n"
          ]
        }
      ]
    }
  ]
}